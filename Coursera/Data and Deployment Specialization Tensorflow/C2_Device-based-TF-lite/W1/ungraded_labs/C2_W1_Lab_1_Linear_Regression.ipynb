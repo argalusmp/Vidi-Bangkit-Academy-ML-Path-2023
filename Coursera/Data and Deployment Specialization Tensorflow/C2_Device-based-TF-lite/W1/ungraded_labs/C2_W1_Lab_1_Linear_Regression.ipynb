{
  "nbformat": 4,
  "nbformat_minor": 0,
  "metadata": {
    "accelerator": "GPU",
    "colab": {
      "provenance": [],
      "toc_visible": true,
      "gpuType": "T4"
    },
    "kernelspec": {
      "display_name": "Python 3",
      "name": "python3"
    },
    "language_info": {
      "codemirror_mode": {
        "name": "ipython",
        "version": 3
      },
      "file_extension": ".py",
      "mimetype": "text/x-python",
      "name": "python",
      "nbconvert_exporter": "python",
      "pygments_lexer": "ipython3",
      "version": "3.8.5"
    }
  },
  "cells": [
    {
      "cell_type": "markdown",
      "metadata": {
        "id": "view-in-github"
      },
      "source": [
        "<a href=\"https://colab.research.google.com/github/https-deeplearning-ai/tensorflow-2-public/blob/adding_C2/C2/W1/ungraded_labs/C2_W1_Lab_1_Linear_Regression.ipynb\" target=\"_parent\"><img src=\"https://colab.research.google.com/assets/colab-badge.svg\" alt=\"Open In Colab\"/></a>"
      ]
    },
    {
      "cell_type": "code",
      "metadata": {
        "id": "zX4Kg8DUTKWO"
      },
      "source": [
        "#@title Licensed under the Apache License, Version 2.0 (the \"License\");\n",
        "# you may not use this file except in compliance with the License.\n",
        "# You may obtain a copy of the License at\n",
        "#\n",
        "# https://www.apache.org/licenses/LICENSE-2.0\n",
        "#\n",
        "# Unless required by applicable law or agreed to in writing, software\n",
        "# distributed under the License is distributed on an \"AS IS\" BASIS,\n",
        "# WITHOUT WARRANTIES OR CONDITIONS OF ANY KIND, either express or implied.\n",
        "# See the License for the specific language governing permissions and\n",
        "# limitations under the License."
      ],
      "execution_count": 13,
      "outputs": []
    },
    {
      "cell_type": "markdown",
      "metadata": {
        "id": "Za8-Nr5k11fh"
      },
      "source": [
        "##### Copyright 2018 The TensorFlow Authors."
      ]
    },
    {
      "cell_type": "code",
      "metadata": {
        "cellView": "form",
        "id": "Eq10uEbw0E4l"
      },
      "source": [
        "#@title Licensed under the Apache License, Version 2.0 (the \"License\");\n",
        "# you may not use this file except in compliance with the License.\n",
        "# You may obtain a copy of the License at\n",
        "#\n",
        "# https://www.apache.org/licenses/LICENSE-2.0\n",
        "#\n",
        "# Unless required by applicable law or agreed to in writing, software\n",
        "# distributed under the License is distributed on an \"AS IS\" BASIS,\n",
        "# WITHOUT WARRANTIES OR CONDITIONS OF ANY KIND, either express or implied.\n",
        "# See the License for the specific language governing permissions and\n",
        "# limitations under the License."
      ],
      "execution_count": 14,
      "outputs": []
    },
    {
      "cell_type": "markdown",
      "metadata": {
        "id": "UysiGN3tGQHY"
      },
      "source": [
        "# Running TFLite Models"
      ]
    },
    {
      "cell_type": "markdown",
      "metadata": {
        "id": "W-VhTkyTGcaQ"
      },
      "source": [
        "## Setup"
      ]
    },
    {
      "cell_type": "code",
      "metadata": {
        "id": "Ll4ii2J9Fea_",
        "colab": {
          "base_uri": "https://localhost:8080/"
        },
        "outputId": "57b278b7-6fc5-4109-ef44-157f97cc4676"
      },
      "source": [
        "try:\n",
        "    %tensorflow_version 2.x\n",
        "except:\n",
        "    pass"
      ],
      "execution_count": 15,
      "outputs": [
        {
          "output_type": "stream",
          "name": "stdout",
          "text": [
            "Colab only includes TensorFlow 2.x; %tensorflow_version has no effect.\n"
          ]
        }
      ]
    },
    {
      "cell_type": "code",
      "metadata": {
        "id": "dy4BcTjBFTWx",
        "colab": {
          "base_uri": "https://localhost:8080/"
        },
        "outputId": "de7334bc-6360-4892-d6a6-e92e9b1eee12"
      },
      "source": [
        "import pathlib\n",
        "import numpy as np\n",
        "import matplotlib.pyplot as plt\n",
        "\n",
        "import tensorflow as tf\n",
        "\n",
        "print('\\u2022 Using TensorFlow Version:', tf.__version__)"
      ],
      "execution_count": 16,
      "outputs": [
        {
          "output_type": "stream",
          "name": "stdout",
          "text": [
            "• Using TensorFlow Version: 2.14.0\n"
          ]
        }
      ]
    },
    {
      "cell_type": "markdown",
      "metadata": {
        "id": "ceibQLDeGhI4"
      },
      "source": [
        "## Create a Basic Model of the Form y = mx + c"
      ]
    },
    {
      "cell_type": "code",
      "metadata": {
        "id": "YIBCsjQNF46Z",
        "colab": {
          "base_uri": "https://localhost:8080/"
        },
        "outputId": "18b3f008-16a8-4e16-eb4a-93f2d5c7be0c"
      },
      "source": [
        "# Create a simple Keras model.\n",
        "x = [-1, 0, 1, 2, 3, 4]\n",
        "y = [-3, -1, 1, 3, 5, 7]\n",
        "\n",
        "model = tf.keras.models.Sequential([\n",
        "        tf.keras.layers.Dense(units=1, input_shape=[1])\n",
        "])\n",
        "\n",
        "model.compile(optimizer='sgd',\n",
        "              loss='mean_squared_error')\n",
        "\n",
        "model.fit(x, y, epochs=200)"
      ],
      "execution_count": 17,
      "outputs": [
        {
          "output_type": "stream",
          "name": "stdout",
          "text": [
            "Epoch 1/200\n",
            "1/1 [==============================] - 1s 638ms/step - loss: 7.2121\n",
            "Epoch 2/200\n",
            "1/1 [==============================] - 0s 19ms/step - loss: 5.8660\n",
            "Epoch 3/200\n",
            "1/1 [==============================] - 0s 12ms/step - loss: 4.8031\n",
            "Epoch 4/200\n",
            "1/1 [==============================] - 0s 54ms/step - loss: 3.9630\n",
            "Epoch 5/200\n",
            "1/1 [==============================] - 0s 32ms/step - loss: 3.2982\n",
            "Epoch 6/200\n",
            "1/1 [==============================] - 0s 17ms/step - loss: 2.7715\n",
            "Epoch 7/200\n",
            "1/1 [==============================] - 0s 22ms/step - loss: 2.3535\n",
            "Epoch 8/200\n",
            "1/1 [==============================] - 0s 21ms/step - loss: 2.0211\n",
            "Epoch 9/200\n",
            "1/1 [==============================] - 0s 21ms/step - loss: 1.7560\n",
            "Epoch 10/200\n",
            "1/1 [==============================] - 0s 21ms/step - loss: 1.5441\n",
            "Epoch 11/200\n",
            "1/1 [==============================] - 0s 16ms/step - loss: 1.3741\n",
            "Epoch 12/200\n",
            "1/1 [==============================] - 0s 19ms/step - loss: 1.2370\n",
            "Epoch 13/200\n",
            "1/1 [==============================] - 0s 30ms/step - loss: 1.1260\n",
            "Epoch 14/200\n",
            "1/1 [==============================] - 0s 16ms/step - loss: 1.0355\n",
            "Epoch 15/200\n",
            "1/1 [==============================] - 0s 26ms/step - loss: 0.9612\n",
            "Epoch 16/200\n",
            "1/1 [==============================] - 0s 15ms/step - loss: 0.8997\n",
            "Epoch 17/200\n",
            "1/1 [==============================] - 0s 23ms/step - loss: 0.8485\n",
            "Epoch 18/200\n",
            "1/1 [==============================] - 0s 17ms/step - loss: 0.8052\n",
            "Epoch 19/200\n",
            "1/1 [==============================] - 0s 24ms/step - loss: 0.7684\n",
            "Epoch 20/200\n",
            "1/1 [==============================] - 0s 21ms/step - loss: 0.7366\n",
            "Epoch 21/200\n",
            "1/1 [==============================] - 0s 29ms/step - loss: 0.7089\n",
            "Epoch 22/200\n",
            "1/1 [==============================] - 0s 36ms/step - loss: 0.6845\n",
            "Epoch 23/200\n",
            "1/1 [==============================] - 0s 22ms/step - loss: 0.6626\n",
            "Epoch 24/200\n",
            "1/1 [==============================] - 0s 19ms/step - loss: 0.6429\n",
            "Epoch 25/200\n",
            "1/1 [==============================] - 0s 29ms/step - loss: 0.6249\n",
            "Epoch 26/200\n",
            "1/1 [==============================] - 0s 16ms/step - loss: 0.6082\n",
            "Epoch 27/200\n",
            "1/1 [==============================] - 0s 14ms/step - loss: 0.5928\n",
            "Epoch 28/200\n",
            "1/1 [==============================] - 0s 21ms/step - loss: 0.5782\n",
            "Epoch 29/200\n",
            "1/1 [==============================] - 0s 20ms/step - loss: 0.5645\n",
            "Epoch 30/200\n",
            "1/1 [==============================] - 0s 12ms/step - loss: 0.5515\n",
            "Epoch 31/200\n",
            "1/1 [==============================] - 0s 44ms/step - loss: 0.5390\n",
            "Epoch 32/200\n",
            "1/1 [==============================] - 0s 21ms/step - loss: 0.5270\n",
            "Epoch 33/200\n",
            "1/1 [==============================] - 0s 28ms/step - loss: 0.5155\n",
            "Epoch 34/200\n",
            "1/1 [==============================] - 0s 19ms/step - loss: 0.5044\n",
            "Epoch 35/200\n",
            "1/1 [==============================] - 0s 25ms/step - loss: 0.4936\n",
            "Epoch 36/200\n",
            "1/1 [==============================] - 0s 16ms/step - loss: 0.4831\n",
            "Epoch 37/200\n",
            "1/1 [==============================] - 0s 19ms/step - loss: 0.4729\n",
            "Epoch 38/200\n",
            "1/1 [==============================] - 0s 37ms/step - loss: 0.4630\n",
            "Epoch 39/200\n",
            "1/1 [==============================] - 0s 36ms/step - loss: 0.4533\n",
            "Epoch 40/200\n",
            "1/1 [==============================] - 0s 25ms/step - loss: 0.4438\n",
            "Epoch 41/200\n",
            "1/1 [==============================] - 0s 19ms/step - loss: 0.4346\n",
            "Epoch 42/200\n",
            "1/1 [==============================] - 0s 47ms/step - loss: 0.4256\n",
            "Epoch 43/200\n",
            "1/1 [==============================] - 0s 19ms/step - loss: 0.4168\n",
            "Epoch 44/200\n",
            "1/1 [==============================] - 0s 17ms/step - loss: 0.4082\n",
            "Epoch 45/200\n",
            "1/1 [==============================] - 0s 52ms/step - loss: 0.3998\n",
            "Epoch 46/200\n",
            "1/1 [==============================] - 0s 26ms/step - loss: 0.3915\n",
            "Epoch 47/200\n",
            "1/1 [==============================] - 0s 16ms/step - loss: 0.3835\n",
            "Epoch 48/200\n",
            "1/1 [==============================] - 0s 17ms/step - loss: 0.3756\n",
            "Epoch 49/200\n",
            "1/1 [==============================] - 0s 50ms/step - loss: 0.3678\n",
            "Epoch 50/200\n",
            "1/1 [==============================] - 0s 13ms/step - loss: 0.3603\n",
            "Epoch 51/200\n",
            "1/1 [==============================] - 0s 23ms/step - loss: 0.3529\n",
            "Epoch 52/200\n",
            "1/1 [==============================] - 0s 22ms/step - loss: 0.3456\n",
            "Epoch 53/200\n",
            "1/1 [==============================] - 0s 16ms/step - loss: 0.3385\n",
            "Epoch 54/200\n",
            "1/1 [==============================] - 0s 38ms/step - loss: 0.3315\n",
            "Epoch 55/200\n",
            "1/1 [==============================] - 0s 15ms/step - loss: 0.3247\n",
            "Epoch 56/200\n",
            "1/1 [==============================] - 0s 25ms/step - loss: 0.3181\n",
            "Epoch 57/200\n",
            "1/1 [==============================] - 0s 15ms/step - loss: 0.3115\n",
            "Epoch 58/200\n",
            "1/1 [==============================] - 0s 45ms/step - loss: 0.3051\n",
            "Epoch 59/200\n",
            "1/1 [==============================] - 0s 21ms/step - loss: 0.2988\n",
            "Epoch 60/200\n",
            "1/1 [==============================] - 0s 20ms/step - loss: 0.2927\n",
            "Epoch 61/200\n",
            "1/1 [==============================] - 0s 50ms/step - loss: 0.2867\n",
            "Epoch 62/200\n",
            "1/1 [==============================] - 0s 14ms/step - loss: 0.2808\n",
            "Epoch 63/200\n",
            "1/1 [==============================] - 0s 31ms/step - loss: 0.2750\n",
            "Epoch 64/200\n",
            "1/1 [==============================] - 0s 15ms/step - loss: 0.2694\n",
            "Epoch 65/200\n",
            "1/1 [==============================] - 0s 13ms/step - loss: 0.2639\n",
            "Epoch 66/200\n",
            "1/1 [==============================] - 0s 17ms/step - loss: 0.2584\n",
            "Epoch 67/200\n",
            "1/1 [==============================] - 0s 22ms/step - loss: 0.2531\n",
            "Epoch 68/200\n",
            "1/1 [==============================] - 0s 16ms/step - loss: 0.2479\n",
            "Epoch 69/200\n",
            "1/1 [==============================] - 0s 42ms/step - loss: 0.2428\n",
            "Epoch 70/200\n",
            "1/1 [==============================] - 0s 18ms/step - loss: 0.2378\n",
            "Epoch 71/200\n",
            "1/1 [==============================] - 0s 18ms/step - loss: 0.2330\n",
            "Epoch 72/200\n",
            "1/1 [==============================] - 0s 18ms/step - loss: 0.2282\n",
            "Epoch 73/200\n",
            "1/1 [==============================] - 0s 46ms/step - loss: 0.2235\n",
            "Epoch 74/200\n",
            "1/1 [==============================] - 0s 23ms/step - loss: 0.2189\n",
            "Epoch 75/200\n",
            "1/1 [==============================] - 0s 24ms/step - loss: 0.2144\n",
            "Epoch 76/200\n",
            "1/1 [==============================] - 0s 46ms/step - loss: 0.2100\n",
            "Epoch 77/200\n",
            "1/1 [==============================] - 0s 59ms/step - loss: 0.2057\n",
            "Epoch 78/200\n",
            "1/1 [==============================] - 0s 29ms/step - loss: 0.2015\n",
            "Epoch 79/200\n",
            "1/1 [==============================] - 0s 30ms/step - loss: 0.1973\n",
            "Epoch 80/200\n",
            "1/1 [==============================] - 0s 33ms/step - loss: 0.1933\n",
            "Epoch 81/200\n",
            "1/1 [==============================] - 0s 40ms/step - loss: 0.1893\n",
            "Epoch 82/200\n",
            "1/1 [==============================] - 0s 31ms/step - loss: 0.1854\n",
            "Epoch 83/200\n",
            "1/1 [==============================] - 0s 43ms/step - loss: 0.1816\n",
            "Epoch 84/200\n",
            "1/1 [==============================] - 0s 45ms/step - loss: 0.1779\n",
            "Epoch 85/200\n",
            "1/1 [==============================] - 0s 44ms/step - loss: 0.1742\n",
            "Epoch 86/200\n",
            "1/1 [==============================] - 0s 28ms/step - loss: 0.1706\n",
            "Epoch 87/200\n",
            "1/1 [==============================] - 0s 35ms/step - loss: 0.1671\n",
            "Epoch 88/200\n",
            "1/1 [==============================] - 0s 42ms/step - loss: 0.1637\n",
            "Epoch 89/200\n",
            "1/1 [==============================] - 0s 27ms/step - loss: 0.1603\n",
            "Epoch 90/200\n",
            "1/1 [==============================] - 0s 24ms/step - loss: 0.1570\n",
            "Epoch 91/200\n",
            "1/1 [==============================] - 0s 24ms/step - loss: 0.1538\n",
            "Epoch 92/200\n",
            "1/1 [==============================] - 0s 14ms/step - loss: 0.1507\n",
            "Epoch 93/200\n",
            "1/1 [==============================] - 0s 32ms/step - loss: 0.1476\n",
            "Epoch 94/200\n",
            "1/1 [==============================] - 0s 31ms/step - loss: 0.1445\n",
            "Epoch 95/200\n",
            "1/1 [==============================] - 0s 35ms/step - loss: 0.1416\n",
            "Epoch 96/200\n",
            "1/1 [==============================] - 0s 48ms/step - loss: 0.1387\n",
            "Epoch 97/200\n",
            "1/1 [==============================] - 0s 44ms/step - loss: 0.1358\n",
            "Epoch 98/200\n",
            "1/1 [==============================] - 0s 47ms/step - loss: 0.1330\n",
            "Epoch 99/200\n",
            "1/1 [==============================] - 0s 51ms/step - loss: 0.1303\n",
            "Epoch 100/200\n",
            "1/1 [==============================] - 0s 43ms/step - loss: 0.1276\n",
            "Epoch 101/200\n",
            "1/1 [==============================] - 0s 61ms/step - loss: 0.1250\n",
            "Epoch 102/200\n",
            "1/1 [==============================] - 0s 51ms/step - loss: 0.1224\n",
            "Epoch 103/200\n",
            "1/1 [==============================] - 0s 19ms/step - loss: 0.1199\n",
            "Epoch 104/200\n",
            "1/1 [==============================] - 0s 20ms/step - loss: 0.1174\n",
            "Epoch 105/200\n",
            "1/1 [==============================] - 0s 13ms/step - loss: 0.1150\n",
            "Epoch 106/200\n",
            "1/1 [==============================] - 0s 20ms/step - loss: 0.1127\n",
            "Epoch 107/200\n",
            "1/1 [==============================] - 0s 14ms/step - loss: 0.1104\n",
            "Epoch 108/200\n",
            "1/1 [==============================] - 0s 38ms/step - loss: 0.1081\n",
            "Epoch 109/200\n",
            "1/1 [==============================] - 0s 39ms/step - loss: 0.1059\n",
            "Epoch 110/200\n",
            "1/1 [==============================] - 0s 25ms/step - loss: 0.1037\n",
            "Epoch 111/200\n",
            "1/1 [==============================] - 0s 11ms/step - loss: 0.1016\n",
            "Epoch 112/200\n",
            "1/1 [==============================] - 0s 36ms/step - loss: 0.0995\n",
            "Epoch 113/200\n",
            "1/1 [==============================] - 0s 34ms/step - loss: 0.0974\n",
            "Epoch 114/200\n",
            "1/1 [==============================] - 0s 11ms/step - loss: 0.0954\n",
            "Epoch 115/200\n",
            "1/1 [==============================] - 0s 37ms/step - loss: 0.0935\n",
            "Epoch 116/200\n",
            "1/1 [==============================] - 0s 44ms/step - loss: 0.0916\n",
            "Epoch 117/200\n",
            "1/1 [==============================] - 0s 22ms/step - loss: 0.0897\n",
            "Epoch 118/200\n",
            "1/1 [==============================] - 0s 48ms/step - loss: 0.0878\n",
            "Epoch 119/200\n",
            "1/1 [==============================] - 0s 22ms/step - loss: 0.0860\n",
            "Epoch 120/200\n",
            "1/1 [==============================] - 0s 21ms/step - loss: 0.0843\n",
            "Epoch 121/200\n",
            "1/1 [==============================] - 0s 22ms/step - loss: 0.0825\n",
            "Epoch 122/200\n",
            "1/1 [==============================] - 0s 40ms/step - loss: 0.0808\n",
            "Epoch 123/200\n",
            "1/1 [==============================] - 0s 30ms/step - loss: 0.0792\n",
            "Epoch 124/200\n",
            "1/1 [==============================] - 0s 21ms/step - loss: 0.0775\n",
            "Epoch 125/200\n",
            "1/1 [==============================] - 0s 24ms/step - loss: 0.0760\n",
            "Epoch 126/200\n",
            "1/1 [==============================] - 0s 24ms/step - loss: 0.0744\n",
            "Epoch 127/200\n",
            "1/1 [==============================] - 0s 32ms/step - loss: 0.0729\n",
            "Epoch 128/200\n",
            "1/1 [==============================] - 0s 40ms/step - loss: 0.0714\n",
            "Epoch 129/200\n",
            "1/1 [==============================] - 0s 20ms/step - loss: 0.0699\n",
            "Epoch 130/200\n",
            "1/1 [==============================] - 0s 41ms/step - loss: 0.0685\n",
            "Epoch 131/200\n",
            "1/1 [==============================] - 0s 12ms/step - loss: 0.0671\n",
            "Epoch 132/200\n",
            "1/1 [==============================] - 0s 13ms/step - loss: 0.0657\n",
            "Epoch 133/200\n",
            "1/1 [==============================] - 0s 35ms/step - loss: 0.0643\n",
            "Epoch 134/200\n",
            "1/1 [==============================] - 0s 23ms/step - loss: 0.0630\n",
            "Epoch 135/200\n",
            "1/1 [==============================] - 0s 11ms/step - loss: 0.0617\n",
            "Epoch 136/200\n",
            "1/1 [==============================] - 0s 26ms/step - loss: 0.0605\n",
            "Epoch 137/200\n",
            "1/1 [==============================] - 0s 13ms/step - loss: 0.0592\n",
            "Epoch 138/200\n",
            "1/1 [==============================] - 0s 25ms/step - loss: 0.0580\n",
            "Epoch 139/200\n",
            "1/1 [==============================] - 0s 13ms/step - loss: 0.0568\n",
            "Epoch 140/200\n",
            "1/1 [==============================] - 0s 61ms/step - loss: 0.0556\n",
            "Epoch 141/200\n",
            "1/1 [==============================] - 0s 27ms/step - loss: 0.0545\n",
            "Epoch 142/200\n",
            "1/1 [==============================] - 0s 49ms/step - loss: 0.0534\n",
            "Epoch 143/200\n",
            "1/1 [==============================] - 0s 21ms/step - loss: 0.0523\n",
            "Epoch 144/200\n",
            "1/1 [==============================] - 0s 39ms/step - loss: 0.0512\n",
            "Epoch 145/200\n",
            "1/1 [==============================] - 0s 13ms/step - loss: 0.0502\n",
            "Epoch 146/200\n",
            "1/1 [==============================] - 0s 17ms/step - loss: 0.0491\n",
            "Epoch 147/200\n",
            "1/1 [==============================] - 0s 23ms/step - loss: 0.0481\n",
            "Epoch 148/200\n",
            "1/1 [==============================] - 0s 29ms/step - loss: 0.0471\n",
            "Epoch 149/200\n",
            "1/1 [==============================] - 0s 25ms/step - loss: 0.0462\n",
            "Epoch 150/200\n",
            "1/1 [==============================] - 0s 25ms/step - loss: 0.0452\n",
            "Epoch 151/200\n",
            "1/1 [==============================] - 0s 22ms/step - loss: 0.0443\n",
            "Epoch 152/200\n",
            "1/1 [==============================] - 0s 32ms/step - loss: 0.0434\n",
            "Epoch 153/200\n",
            "1/1 [==============================] - 0s 23ms/step - loss: 0.0425\n",
            "Epoch 154/200\n",
            "1/1 [==============================] - 0s 19ms/step - loss: 0.0416\n",
            "Epoch 155/200\n",
            "1/1 [==============================] - 0s 18ms/step - loss: 0.0408\n",
            "Epoch 156/200\n",
            "1/1 [==============================] - 0s 35ms/step - loss: 0.0399\n",
            "Epoch 157/200\n",
            "1/1 [==============================] - 0s 45ms/step - loss: 0.0391\n",
            "Epoch 158/200\n",
            "1/1 [==============================] - 0s 34ms/step - loss: 0.0383\n",
            "Epoch 159/200\n",
            "1/1 [==============================] - 0s 17ms/step - loss: 0.0375\n",
            "Epoch 160/200\n",
            "1/1 [==============================] - 0s 13ms/step - loss: 0.0367\n",
            "Epoch 161/200\n",
            "1/1 [==============================] - 0s 30ms/step - loss: 0.0360\n",
            "Epoch 162/200\n",
            "1/1 [==============================] - 0s 51ms/step - loss: 0.0352\n",
            "Epoch 163/200\n",
            "1/1 [==============================] - 0s 29ms/step - loss: 0.0345\n",
            "Epoch 164/200\n",
            "1/1 [==============================] - 0s 18ms/step - loss: 0.0338\n",
            "Epoch 165/200\n",
            "1/1 [==============================] - 0s 31ms/step - loss: 0.0331\n",
            "Epoch 166/200\n",
            "1/1 [==============================] - 0s 13ms/step - loss: 0.0324\n",
            "Epoch 167/200\n",
            "1/1 [==============================] - 0s 23ms/step - loss: 0.0318\n",
            "Epoch 168/200\n",
            "1/1 [==============================] - 0s 12ms/step - loss: 0.0311\n",
            "Epoch 169/200\n",
            "1/1 [==============================] - 0s 23ms/step - loss: 0.0305\n",
            "Epoch 170/200\n",
            "1/1 [==============================] - 0s 14ms/step - loss: 0.0298\n",
            "Epoch 171/200\n",
            "1/1 [==============================] - 0s 16ms/step - loss: 0.0292\n",
            "Epoch 172/200\n",
            "1/1 [==============================] - 0s 19ms/step - loss: 0.0286\n",
            "Epoch 173/200\n",
            "1/1 [==============================] - 0s 22ms/step - loss: 0.0280\n",
            "Epoch 174/200\n",
            "1/1 [==============================] - 0s 20ms/step - loss: 0.0275\n",
            "Epoch 175/200\n",
            "1/1 [==============================] - 0s 21ms/step - loss: 0.0269\n",
            "Epoch 176/200\n",
            "1/1 [==============================] - 0s 33ms/step - loss: 0.0264\n",
            "Epoch 177/200\n",
            "1/1 [==============================] - 0s 18ms/step - loss: 0.0258\n",
            "Epoch 178/200\n",
            "1/1 [==============================] - 0s 28ms/step - loss: 0.0253\n",
            "Epoch 179/200\n",
            "1/1 [==============================] - 0s 14ms/step - loss: 0.0248\n",
            "Epoch 180/200\n",
            "1/1 [==============================] - 0s 49ms/step - loss: 0.0243\n",
            "Epoch 181/200\n",
            "1/1 [==============================] - 0s 39ms/step - loss: 0.0238\n",
            "Epoch 182/200\n",
            "1/1 [==============================] - 0s 17ms/step - loss: 0.0233\n",
            "Epoch 183/200\n",
            "1/1 [==============================] - 0s 27ms/step - loss: 0.0228\n",
            "Epoch 184/200\n",
            "1/1 [==============================] - 0s 12ms/step - loss: 0.0223\n",
            "Epoch 185/200\n",
            "1/1 [==============================] - 0s 10ms/step - loss: 0.0219\n",
            "Epoch 186/200\n",
            "1/1 [==============================] - 0s 23ms/step - loss: 0.0214\n",
            "Epoch 187/200\n",
            "1/1 [==============================] - 0s 14ms/step - loss: 0.0210\n",
            "Epoch 188/200\n",
            "1/1 [==============================] - 0s 19ms/step - loss: 0.0205\n",
            "Epoch 189/200\n",
            "1/1 [==============================] - 0s 11ms/step - loss: 0.0201\n",
            "Epoch 190/200\n",
            "1/1 [==============================] - 0s 11ms/step - loss: 0.0197\n",
            "Epoch 191/200\n",
            "1/1 [==============================] - 0s 11ms/step - loss: 0.0193\n",
            "Epoch 192/200\n",
            "1/1 [==============================] - 0s 13ms/step - loss: 0.0189\n",
            "Epoch 193/200\n",
            "1/1 [==============================] - 0s 13ms/step - loss: 0.0185\n",
            "Epoch 194/200\n",
            "1/1 [==============================] - 0s 14ms/step - loss: 0.0181\n",
            "Epoch 195/200\n",
            "1/1 [==============================] - 0s 14ms/step - loss: 0.0178\n",
            "Epoch 196/200\n",
            "1/1 [==============================] - 0s 14ms/step - loss: 0.0174\n",
            "Epoch 197/200\n",
            "1/1 [==============================] - 0s 14ms/step - loss: 0.0170\n",
            "Epoch 198/200\n",
            "1/1 [==============================] - 0s 13ms/step - loss: 0.0167\n",
            "Epoch 199/200\n",
            "1/1 [==============================] - 0s 14ms/step - loss: 0.0164\n",
            "Epoch 200/200\n",
            "1/1 [==============================] - 0s 20ms/step - loss: 0.0160\n"
          ]
        },
        {
          "output_type": "execute_result",
          "data": {
            "text/plain": [
              "<keras.src.callbacks.History at 0x79d1507a8f70>"
            ]
          },
          "metadata": {},
          "execution_count": 17
        }
      ]
    },
    {
      "cell_type": "markdown",
      "metadata": {
        "id": "EjsB-QICGt6L"
      },
      "source": [
        "## Generate a SavedModel"
      ]
    },
    {
      "cell_type": "code",
      "metadata": {
        "id": "a9xcbK7QHOfm"
      },
      "source": [
        "export_dir = 'saved_model/1'\n",
        "tf.saved_model.save(model, export_dir)"
      ],
      "execution_count": 18,
      "outputs": []
    },
    {
      "cell_type": "markdown",
      "metadata": {
        "id": "RRtsNwkiGxcO"
      },
      "source": [
        "## Convert the SavedModel to TFLite"
      ]
    },
    {
      "cell_type": "code",
      "metadata": {
        "id": "TtM8yKTVTpD3"
      },
      "source": [
        "# Convert the model.\n",
        "converter = tf.lite.TFLiteConverter.from_saved_model(export_dir)\n",
        "tflite_model = converter.convert()"
      ],
      "execution_count": 19,
      "outputs": []
    },
    {
      "cell_type": "code",
      "metadata": {
        "id": "4idYulcNHTdO",
        "colab": {
          "base_uri": "https://localhost:8080/"
        },
        "outputId": "328df51b-2eac-4e47-f284-be48c93da671"
      },
      "source": [
        "tflite_model_file = pathlib.Path('model.tflite')\n",
        "tflite_model_file.write_bytes(tflite_model)"
      ],
      "execution_count": 20,
      "outputs": [
        {
          "output_type": "execute_result",
          "data": {
            "text/plain": [
              "1092"
            ]
          },
          "metadata": {},
          "execution_count": 20
        }
      ]
    },
    {
      "cell_type": "markdown",
      "metadata": {
        "id": "HgGvp2yBG25Q"
      },
      "source": [
        "## Initialize the TFLite Interpreter To Try It Out"
      ]
    },
    {
      "cell_type": "code",
      "metadata": {
        "id": "DOt94wIWF8m7"
      },
      "source": [
        "# Load TFLite model and allocate tensors.\n",
        "interpreter = tf.lite.Interpreter(model_content=tflite_model)\n",
        "interpreter.allocate_tensors()\n",
        "\n",
        "# Get input and output tensors.\n",
        "input_details = interpreter.get_input_details()\n",
        "output_details = interpreter.get_output_details()"
      ],
      "execution_count": 21,
      "outputs": []
    },
    {
      "cell_type": "code",
      "metadata": {
        "id": "JGYkEK08F8qK"
      },
      "source": [
        "# Test the TensorFlow Lite model on random input data.\n",
        "input_shape = input_details[0]['shape']\n",
        "inputs, outputs = [], []\n",
        "for _ in range(100):\n",
        "    input_data = np.array(np.random.random_sample(input_shape), dtype=np.float32)\n",
        "    interpreter.set_tensor(input_details[0]['index'], input_data)\n",
        "\n",
        "    interpreter.invoke()\n",
        "    tflite_results = interpreter.get_tensor(output_details[0]['index'])\n",
        "\n",
        "    # Test the TensorFlow model on random input data.\n",
        "    tf_results = model(tf.constant(input_data))\n",
        "    output_data = np.array(tf_results)\n",
        "\n",
        "    inputs.append(input_data[0][0])\n",
        "    outputs.append(output_data[0][0])"
      ],
      "execution_count": 22,
      "outputs": []
    },
    {
      "cell_type": "markdown",
      "metadata": {
        "id": "t1gQGH1KWAgW"
      },
      "source": [
        "## Visualize the Model"
      ]
    },
    {
      "cell_type": "code",
      "metadata": {
        "id": "ccvQ1mEJVrqo",
        "colab": {
          "base_uri": "https://localhost:8080/",
          "height": 430
        },
        "outputId": "ddc6bdd1-c8fa-41bc-8141-5f70291c9dbd"
      },
      "source": [
        "%matplotlib inline\n",
        "\n",
        "plt.plot(inputs, outputs, 'r')\n",
        "plt.show()"
      ],
      "execution_count": 23,
      "outputs": [
        {
          "output_type": "display_data",
          "data": {
            "text/plain": [
              "<Figure size 640x480 with 1 Axes>"
            ],
            "image/png": "[encoded data removed]"
          },
          "metadata": {}
        }
      ]
    },
    {
      "cell_type": "markdown",
      "metadata": {
        "id": "WbugMH6yKvtd"
      },
      "source": [
        "## Download the TFLite Model File\n",
        "\n",
        "If you are running this notebook in a Colab, you can run the cell below to download the tflite model to your local disk.\n",
        "\n",
        "**Note**: If the file does not download when you run the cell, try running the cell a second time."
      ]
    },
    {
      "cell_type": "code",
      "metadata": {
        "id": "FOAIMETeJmkc",
        "colab": {
          "base_uri": "https://localhost:8080/",
          "height": 17
        },
        "outputId": "64498e92-ec2d-4fc6-a49a-49aa3ee80644"
      },
      "source": [
        "try:\n",
        "    from google.colab import files\n",
        "    files.download(tflite_model_file)\n",
        "except:\n",
        "    pass"
      ],
      "execution_count": 24,
      "outputs": [
        {
          "output_type": "display_data",
          "data": {
            "text/plain": [
              "<IPython.core.display.Javascript object>"
            ],
            "application/javascript": [
              "\n",
              "    async function download(id, filename, size) {\n",
              "      if (!google.colab.kernel.accessAllowed) {\n",
              "        return;\n",
              "      }\n",
              "      const div = document.createElement('div');\n",
              "      const label = document.createElement('label');\n",
              "      label.textContent = `Downloading \"${filename}\": `;\n",
              "      div.appendChild(label);\n",
              "      const progress = document.createElement('progress');\n",
              "      progress.max = size;\n",
              "      div.appendChild(progress);\n",
              "      document.body.appendChild(div);\n",
              "\n",
              "      const buffers = [];\n",
              "      let downloaded = 0;\n",
              "\n",
              "      const channel = await google.colab.kernel.comms.open(id);\n",
              "      // Send a message to notify the kernel that we're ready.\n",
              "      channel.send({})\n",
              "\n",
              "      for await (const message of channel.messages) {\n",
              "        // Send a message to notify the kernel that we're ready.\n",
              "        channel.send({})\n",
              "        if (message.buffers) {\n",
              "          for (const buffer of message.buffers) {\n",
              "            buffers.push(buffer);\n",
              "            downloaded += buffer.byteLength;\n",
              "            progress.value = downloaded;\n",
              "          }\n",
              "        }\n",
              "      }\n",
              "      const blob = new Blob(buffers, {type: 'application/binary'});\n",
              "      const a = document.createElement('a');\n",
              "      a.href = window.URL.createObjectURL(blob);\n",
              "      a.download = filename;\n",
              "      div.appendChild(a);\n",
              "      a.click();\n",
              "      div.remove();\n",
              "    }\n",
              "  "
            ]
          },
          "metadata": {}
        },
        {
          "output_type": "display_data",
          "data": {
            "text/plain": [
              "<IPython.core.display.Javascript object>"
            ],
            "application/javascript": [
              "download(\"download_47e73869-eb6e-47ba-af5b-99cd81cbf95e\", \"model.tflite\", 1092)"
            ]
          },
          "metadata": {}
        }
      ]
    }
  ]
}